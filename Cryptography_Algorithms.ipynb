{
  "nbformat": 4,
  "nbformat_minor": 0,
  "metadata": {
    "colab": {
      "name": "Cryptography_Algorithms.ipynb",
      "provenance": [],
      "collapsed_sections": [
        "7wIG7-Y4KfyZ",
        "kvY2bv0JQf42",
        "p4RMvT2pbg3k"
      ],
      "authorship_tag": "ABX9TyNETpL/HCXxH5j5f2WdtZtX",
      "include_colab_link": true
    },
    "kernelspec": {
      "name": "python3",
      "display_name": "Python 3"
    },
    "language_info": {
      "name": "python"
    },
    "accelerator": "GPU"
  },
  "cells": [
    {
      "cell_type": "markdown",
      "metadata": {
        "id": "view-in-github",
        "colab_type": "text"
      },
      "source": [
        "<a href=\"https://colab.research.google.com/github/JaRCSin/Cryptography_Notebook/blob/main/Cryptography_Algorithms.ipynb\" target=\"_parent\"><img src=\"https://colab.research.google.com/assets/colab-badge.svg\" alt=\"Open In Colab\"/></a>"
      ]
    },
    {
      "cell_type": "markdown",
      "source": [
        "## Concepts\n",
        "\n",
        "\n",
        "**Encryption:**\n",
        "\n",
        "is the process of encoding the data. i.e converting plain text into ciphertext. This conversion is done with a key called an encryption key.\n",
        "\n",
        "**Decryption:**\n",
        "\n",
        "is a process of decoding the encoded data. Converting the ciphertext into plain text. This process requires a key that we used for encryption. We require a key for encryption. There two main types of keys used for encryption and decryption. They are Symmetric-key and Asymmetric-key.\n",
        "\n",
        "**Symmetric-key Encryption:**\n",
        "\n",
        "In symmetric-key encryption, the data is encoded and decoded with the same key. This is the easiest way of encryption, but also less secure. The receiver needs the key for decryption, so a safe way need for transferring keys. Anyone with the key can read the data in the middle.\n",
        "\n",
        "\n",
        "\n",
        "\n",
        "\n",
        "\n",
        "\n"
      ],
      "metadata": {
        "id": "oMdNwlOSJZs-"
      }
    },
    {
      "cell_type": "markdown",
      "source": [
        "## Cryptograph Library Method"
      ],
      "metadata": {
        "id": "7wIG7-Y4KfyZ"
      }
    },
    {
      "cell_type": "code",
      "execution_count": null,
      "metadata": {
        "id": "cJ9d5zaG9P3z",
        "colab": {
          "base_uri": "https://localhost:8080/"
        },
        "outputId": "0e49e8f5-87df-40ad-e464-6e7ea4b3055b"
      },
      "outputs": [
        {
          "output_type": "stream",
          "name": "stdout",
          "text": [
            "Collecting cryptography\n",
            "  Downloading cryptography-36.0.1-cp36-abi3-manylinux_2_24_x86_64.whl (3.6 MB)\n",
            "\u001b[K     |████████████████████████████████| 3.6 MB 7.6 MB/s \n",
            "\u001b[?25hRequirement already satisfied: cffi>=1.12 in /usr/local/lib/python3.7/dist-packages (from cryptography) (1.15.0)\n",
            "Requirement already satisfied: pycparser in /usr/local/lib/python3.7/dist-packages (from cffi>=1.12->cryptography) (2.21)\n",
            "Installing collected packages: cryptography\n",
            "Successfully installed cryptography-36.0.1\n"
          ]
        }
      ],
      "source": [
        "!pip install cryptography"
      ]
    },
    {
      "cell_type": "code",
      "source": [
        "#Import Fernet Module\n",
        "from cryptography.fernet import Fernet\n"
      ],
      "metadata": {
        "id": "YWdisdD_Kz_e"
      },
      "execution_count": null,
      "outputs": []
    },
    {
      "cell_type": "code",
      "source": [
        "# Encryption\n",
        "# Please Type in your Message to Encrypt\n",
        "# The Guy in the red hat came to me and asked for the relic bought in the auction\n",
        "message = input('Please Enter your Message: ')\n",
        "key = Fernet.generate_key()\n",
        "fernet = Fernet(key)\n",
        "encMessage = fernet.encrypt(message.encode())\n",
        "\n",
        "print(\"encrypted message: \", encMessage)"
      ],
      "metadata": {
        "colab": {
          "base_uri": "https://localhost:8080/"
        },
        "id": "H7HtgtJLLLEo",
        "outputId": "8194aade-caa9-4f1d-f7af-8671042b8a81"
      },
      "execution_count": null,
      "outputs": [
        {
          "output_type": "stream",
          "name": "stdout",
          "text": [
            "Please Enter your Message: The Guy in the red hat came to me and asked for the relic bought in the auction\n",
            "encrypted message:  b'gAAAAABiCkzkt2qhsgqiUSOxLvPC9p_X8mL27u5YVY9vxg6lFvWsOU2Ie_lJR-5F6tKm4zy0bionHUPsKc_tvgqkZ3iEkzZ4sx7W4na7x01of4pw3kFNXMtkOk_ELLMu7P6t0pSQMcCRYADF__qKZDno7sIjL4XMDdTziagQOwewoxgO9RRAwSk='\n"
          ]
        }
      ]
    },
    {
      "cell_type": "code",
      "source": [
        "# Decryption\n",
        "# Please paste your encrypted message\n",
        "# can further be automated\n",
        "recMessage = input('Please enter the Encrypted message: ') # encrypted key ONLY\n",
        "b_recMessage = bytes(recMessage, 'utf-8') # convert key string to bytes for decoding purposes\n",
        "\n",
        "decMessage = fernet.decrypt(b_recMessage).decode()\n",
        "print(\"decrypted message: \", decMessage)"
      ],
      "metadata": {
        "colab": {
          "base_uri": "https://localhost:8080/"
        },
        "id": "GfkmO_onMprp",
        "outputId": "66044961-a756-40f9-c3c2-3ab6b9d4e532"
      },
      "execution_count": null,
      "outputs": [
        {
          "output_type": "stream",
          "name": "stdout",
          "text": [
            "Please enter the Encrypted message: gAAAAABiCkzkt2qhsgqiUSOxLvPC9p_X8mL27u5YVY9vxg6lFvWsOU2Ie_lJR-5F6tKm4zy0bionHUPsKc_tvgqkZ3iEkzZ4sx7W4na7x01of4pw3kFNXMtkOk_ELLMu7P6t0pSQMcCRYADF__qKZDno7sIjL4XMDdTziagQOwewoxgO9RRAwSk=\n",
            "decrypted message:  The Guy in the red hat came to me and asked for the relic bought in the auction\n"
          ]
        }
      ]
    },
    {
      "cell_type": "markdown",
      "source": [
        "## Cipher Method\n",
        "\n",
        "this will follow the simple cupher method"
      ],
      "metadata": {
        "id": "kvY2bv0JQf42"
      }
    },
    {
      "cell_type": "code",
      "source": [
        "# Enryption function\n",
        "def encrypt(text, s):\n",
        "  result = \"\"\n",
        "  #transverse the plain text\n",
        "  for i in range(len(text)):\n",
        "    char = text[i]\n",
        "    # Encrypt uppercase characters in plain text\n",
        "    if(char.isupper()):\n",
        "      result += chr((ord(char) + s-65) % 26 + 65)\n",
        "    # Encrypt lowercase characters in plain text\n",
        "    else:\n",
        "      result += chr((ord(char) + s - 97) % 26 + 97)\n",
        "  return result"
      ],
      "metadata": {
        "id": "MxPSUNjyRA8v"
      },
      "execution_count": null,
      "outputs": []
    },
    {
      "cell_type": "code",
      "source": [
        "message_CIPHER = input('Please Enter your Message: ')\n",
        "s = 4"
      ],
      "metadata": {
        "colab": {
          "base_uri": "https://localhost:8080/"
        },
        "id": "cn_YR7soR85s",
        "outputId": "b8b0d217-0a8d-46b2-9315-b2d70c44778a"
      },
      "execution_count": null,
      "outputs": [
        {
          "name": "stdout",
          "output_type": "stream",
          "text": [
            "Please Enter your Message: The Guy in the red hat came to me and asked for the relic bought in the auction\n"
          ]
        }
      ]
    },
    {
      "cell_type": "code",
      "source": [
        "# Encryption\n",
        "encMessage_CIPHER = encrypt(message_CIPHER, s)\n",
        "print('Encryted Message: ', encMessage_CIPHER)"
      ],
      "metadata": {
        "colab": {
          "base_uri": "https://localhost:8080/"
        },
        "id": "2lWZFBHlSQ4K",
        "outputId": "3d2bfdfc-c443-4c95-ca69-9e90b3012644"
      },
      "execution_count": null,
      "outputs": [
        {
          "output_type": "stream",
          "name": "stdout",
          "text": [
            "Encryted Message:  XlirKycrmrrxlirvihrlexrgeqirxsrqirerhrewoihrjsvrxlirvipmgrfsyklxrmrrxlireygxmsr\n"
          ]
        }
      ]
    },
    {
      "cell_type": "code",
      "source": [
        "# decoding CIPHER Method\n",
        "\n",
        "import string\n",
        "from time import sleep\n",
        "\n",
        "alphabet = string.ascii_lowercase # \"abcdefghijklmnopqrstuvwxyz\"\n",
        "\n",
        "def decrypt():\n",
        "    \n",
        "    print(\"Welcome to Caesar Cipher Decryption.\\n\")\n",
        "    encrypted_message = input(\"Enter the message you would like to decrypt: \").strip()\n",
        "    print()\n",
        "    key = int(input(\"Enter shift to decrypt: \"))\n",
        "    \n",
        "    decrypted_message = \"\"\n",
        "\n",
        "    for c in encrypted_message:\n",
        "\n",
        "        if c in alphabet:\n",
        "            position = alphabet.find(c)\n",
        "            new_position = (position - key) % 26\n",
        "            new_character = alphabet[new_position]\n",
        "            decrypted_message += new_character\n",
        "        else:\n",
        "            decrypted_message += c\n",
        "\n",
        "    print(\"\\nDecrypting your message...\\n\")\n",
        "    sleep(2) # give an appearance of doing something complicated\n",
        "    print(\"Stand by, almost finished...\\n\")\n",
        "    sleep(2) # more of the same\n",
        "    print(\"Your decrypted message is:\\n\")\n",
        "    print(decrypted_message)\n",
        "\n",
        "decrypt()"
      ],
      "metadata": {
        "colab": {
          "base_uri": "https://localhost:8080/"
        },
        "id": "8HuJ-ChIT_cm",
        "outputId": "130669df-49d8-4628-dd59-0db772fa42e3"
      },
      "execution_count": null,
      "outputs": [
        {
          "output_type": "stream",
          "name": "stdout",
          "text": [
            "Welcome to Caesar Cipher Decryption.\n",
            "\n",
            "Enter the message you would like to decrypt: XlirKycrmrrxlirvihrlexrgeqirxsrqirerhrewoihrjsvrxlirvipmgrfsyklxrmrrxlireygxmsr\n",
            "\n",
            "Enter shift to decrypt: 4\n",
            "\n",
            "Decrypting your message...\n",
            "\n",
            "Stand by, almost finished...\n",
            "\n",
            "Your decrypted message is:\n",
            "\n",
            "XhenKuyninnthenrednhatncamentonmenandnaskednfornthenrelicnboughtninnthenauction\n"
          ]
        }
      ]
    },
    {
      "cell_type": "markdown",
      "source": [
        "## Hash Function Method\n",
        "\n",
        "Following Hash Method"
      ],
      "metadata": {
        "id": "p4RMvT2pbg3k"
      }
    },
    {
      "cell_type": "code",
      "source": [
        "import hashlib, binascii\n",
        "\n",
        "text = 'hello'\n",
        "data = text.encode(\"utf8\")\n",
        "\n",
        "sha256hash = hashlib.sha256(data).digest()\n",
        "print(\"SHA-256:   \", binascii.hexlify(sha256hash))\n",
        "\n",
        "sha3_256 = hashlib.sha3_256(data).digest()\n",
        "print(\"SHA3-256:  \", binascii.hexlify(sha3_256))\n",
        "\n",
        "blake2s = hashlib.new('blake2s', data).digest()\n",
        "print(\"BLAKE2s:   \", binascii.hexlify(blake2s))\n",
        "\n",
        "ripemd160 = hashlib.new('ripemd160', data).digest()\n",
        "print(\"RIPEMD-160:\", binascii.hexlify(ripemd160))"
      ],
      "metadata": {
        "colab": {
          "base_uri": "https://localhost:8080/"
        },
        "id": "eCYIQFXvbqqd",
        "outputId": "6d1764a0-529d-439e-d258-0cc5ed992569"
      },
      "execution_count": null,
      "outputs": [
        {
          "output_type": "stream",
          "name": "stdout",
          "text": [
            "SHA-256:    b'2cf24dba5fb0a30e26e83b2ac5b9e29e1b161e5c1fa7425e73043362938b9824'\n",
            "SHA3-256:   b'3338be694f50c5f338814986cdf0686453a888b84f424d792af4b9202398f392'\n",
            "BLAKE2s:    b'19213bacc58dee6dbde3ceb9a47cbb330b3d86f8cca8997eb00be456f140ca25'\n",
            "RIPEMD-160: b'108f07b8382412612c048d07d13f814118445acd'\n"
          ]
        }
      ]
    },
    {
      "cell_type": "markdown",
      "source": [
        "Calculating Keccak-256 hashes (the hash function used in the Ethereum blockchain) requires non-standard Python functions. In the below example we use the pycryptodome package available from PyPI: https://pypi.org/project/pycryptodome"
      ],
      "metadata": {
        "id": "T7qhDeyfccbR"
      }
    },
    {
      "cell_type": "code",
      "source": [
        "pip install pycryptodome"
      ],
      "metadata": {
        "colab": {
          "base_uri": "https://localhost:8080/"
        },
        "id": "Y8R5BJugcbWp",
        "outputId": "9365d15f-e60e-4aa1-cdc6-a9bbea7841cc"
      },
      "execution_count": null,
      "outputs": [
        {
          "output_type": "stream",
          "name": "stdout",
          "text": [
            "Collecting pycryptodome\n",
            "  Downloading pycryptodome-3.14.1-cp35-abi3-manylinux2010_x86_64.whl (2.0 MB)\n",
            "\u001b[?25l\r\u001b[K     |▏                               | 10 kB 19.5 MB/s eta 0:00:01\r\u001b[K     |▎                               | 20 kB 25.8 MB/s eta 0:00:01\r\u001b[K     |▌                               | 30 kB 25.1 MB/s eta 0:00:01\r\u001b[K     |▋                               | 40 kB 19.8 MB/s eta 0:00:01\r\u001b[K     |▉                               | 51 kB 15.2 MB/s eta 0:00:01\r\u001b[K     |█                               | 61 kB 14.0 MB/s eta 0:00:01\r\u001b[K     |█▏                              | 71 kB 12.7 MB/s eta 0:00:01\r\u001b[K     |█▎                              | 81 kB 14.0 MB/s eta 0:00:01\r\u001b[K     |█▌                              | 92 kB 14.3 MB/s eta 0:00:01\r\u001b[K     |█▋                              | 102 kB 12.3 MB/s eta 0:00:01\r\u001b[K     |█▉                              | 112 kB 12.3 MB/s eta 0:00:01\r\u001b[K     |██                              | 122 kB 12.3 MB/s eta 0:00:01\r\u001b[K     |██▏                             | 133 kB 12.3 MB/s eta 0:00:01\r\u001b[K     |██▎                             | 143 kB 12.3 MB/s eta 0:00:01\r\u001b[K     |██▌                             | 153 kB 12.3 MB/s eta 0:00:01\r\u001b[K     |██▋                             | 163 kB 12.3 MB/s eta 0:00:01\r\u001b[K     |██▉                             | 174 kB 12.3 MB/s eta 0:00:01\r\u001b[K     |███                             | 184 kB 12.3 MB/s eta 0:00:01\r\u001b[K     |███▏                            | 194 kB 12.3 MB/s eta 0:00:01\r\u001b[K     |███▎                            | 204 kB 12.3 MB/s eta 0:00:01\r\u001b[K     |███▌                            | 215 kB 12.3 MB/s eta 0:00:01\r\u001b[K     |███▋                            | 225 kB 12.3 MB/s eta 0:00:01\r\u001b[K     |███▉                            | 235 kB 12.3 MB/s eta 0:00:01\r\u001b[K     |████                            | 245 kB 12.3 MB/s eta 0:00:01\r\u001b[K     |████▏                           | 256 kB 12.3 MB/s eta 0:00:01\r\u001b[K     |████▎                           | 266 kB 12.3 MB/s eta 0:00:01\r\u001b[K     |████▌                           | 276 kB 12.3 MB/s eta 0:00:01\r\u001b[K     |████▋                           | 286 kB 12.3 MB/s eta 0:00:01\r\u001b[K     |████▉                           | 296 kB 12.3 MB/s eta 0:00:01\r\u001b[K     |█████                           | 307 kB 12.3 MB/s eta 0:00:01\r\u001b[K     |█████▏                          | 317 kB 12.3 MB/s eta 0:00:01\r\u001b[K     |█████▎                          | 327 kB 12.3 MB/s eta 0:00:01\r\u001b[K     |█████▌                          | 337 kB 12.3 MB/s eta 0:00:01\r\u001b[K     |█████▋                          | 348 kB 12.3 MB/s eta 0:00:01\r\u001b[K     |█████▉                          | 358 kB 12.3 MB/s eta 0:00:01\r\u001b[K     |██████                          | 368 kB 12.3 MB/s eta 0:00:01\r\u001b[K     |██████▏                         | 378 kB 12.3 MB/s eta 0:00:01\r\u001b[K     |██████▎                         | 389 kB 12.3 MB/s eta 0:00:01\r\u001b[K     |██████▌                         | 399 kB 12.3 MB/s eta 0:00:01\r\u001b[K     |██████▋                         | 409 kB 12.3 MB/s eta 0:00:01\r\u001b[K     |██████▉                         | 419 kB 12.3 MB/s eta 0:00:01\r\u001b[K     |███████                         | 430 kB 12.3 MB/s eta 0:00:01\r\u001b[K     |███████▏                        | 440 kB 12.3 MB/s eta 0:00:01\r\u001b[K     |███████▎                        | 450 kB 12.3 MB/s eta 0:00:01\r\u001b[K     |███████▌                        | 460 kB 12.3 MB/s eta 0:00:01\r\u001b[K     |███████▋                        | 471 kB 12.3 MB/s eta 0:00:01\r\u001b[K     |███████▉                        | 481 kB 12.3 MB/s eta 0:00:01\r\u001b[K     |████████                        | 491 kB 12.3 MB/s eta 0:00:01\r\u001b[K     |████████▏                       | 501 kB 12.3 MB/s eta 0:00:01\r\u001b[K     |████████▎                       | 512 kB 12.3 MB/s eta 0:00:01\r\u001b[K     |████████▌                       | 522 kB 12.3 MB/s eta 0:00:01\r\u001b[K     |████████▋                       | 532 kB 12.3 MB/s eta 0:00:01\r\u001b[K     |████████▉                       | 542 kB 12.3 MB/s eta 0:00:01\r\u001b[K     |█████████                       | 552 kB 12.3 MB/s eta 0:00:01\r\u001b[K     |█████████▏                      | 563 kB 12.3 MB/s eta 0:00:01\r\u001b[K     |█████████▎                      | 573 kB 12.3 MB/s eta 0:00:01\r\u001b[K     |█████████▌                      | 583 kB 12.3 MB/s eta 0:00:01\r\u001b[K     |█████████▋                      | 593 kB 12.3 MB/s eta 0:00:01\r\u001b[K     |█████████▉                      | 604 kB 12.3 MB/s eta 0:00:01\r\u001b[K     |██████████                      | 614 kB 12.3 MB/s eta 0:00:01\r\u001b[K     |██████████▏                     | 624 kB 12.3 MB/s eta 0:00:01\r\u001b[K     |██████████▎                     | 634 kB 12.3 MB/s eta 0:00:01\r\u001b[K     |██████████▌                     | 645 kB 12.3 MB/s eta 0:00:01\r\u001b[K     |██████████▋                     | 655 kB 12.3 MB/s eta 0:00:01\r\u001b[K     |██████████▉                     | 665 kB 12.3 MB/s eta 0:00:01\r\u001b[K     |███████████                     | 675 kB 12.3 MB/s eta 0:00:01\r\u001b[K     |███████████▏                    | 686 kB 12.3 MB/s eta 0:00:01\r\u001b[K     |███████████▎                    | 696 kB 12.3 MB/s eta 0:00:01\r\u001b[K     |███████████▌                    | 706 kB 12.3 MB/s eta 0:00:01\r\u001b[K     |███████████▋                    | 716 kB 12.3 MB/s eta 0:00:01\r\u001b[K     |███████████▉                    | 727 kB 12.3 MB/s eta 0:00:01\r\u001b[K     |████████████                    | 737 kB 12.3 MB/s eta 0:00:01\r\u001b[K     |████████████▏                   | 747 kB 12.3 MB/s eta 0:00:01\r\u001b[K     |████████████▎                   | 757 kB 12.3 MB/s eta 0:00:01\r\u001b[K     |████████████▌                   | 768 kB 12.3 MB/s eta 0:00:01\r\u001b[K     |████████████▋                   | 778 kB 12.3 MB/s eta 0:00:01\r\u001b[K     |████████████▉                   | 788 kB 12.3 MB/s eta 0:00:01\r\u001b[K     |█████████████                   | 798 kB 12.3 MB/s eta 0:00:01\r\u001b[K     |█████████████▏                  | 808 kB 12.3 MB/s eta 0:00:01\r\u001b[K     |█████████████▎                  | 819 kB 12.3 MB/s eta 0:00:01\r\u001b[K     |█████████████▌                  | 829 kB 12.3 MB/s eta 0:00:01\r\u001b[K     |█████████████▋                  | 839 kB 12.3 MB/s eta 0:00:01\r\u001b[K     |█████████████▉                  | 849 kB 12.3 MB/s eta 0:00:01\r\u001b[K     |██████████████                  | 860 kB 12.3 MB/s eta 0:00:01\r\u001b[K     |██████████████▏                 | 870 kB 12.3 MB/s eta 0:00:01\r\u001b[K     |██████████████▎                 | 880 kB 12.3 MB/s eta 0:00:01\r\u001b[K     |██████████████▌                 | 890 kB 12.3 MB/s eta 0:00:01\r\u001b[K     |██████████████▋                 | 901 kB 12.3 MB/s eta 0:00:01\r\u001b[K     |██████████████▉                 | 911 kB 12.3 MB/s eta 0:00:01\r\u001b[K     |███████████████                 | 921 kB 12.3 MB/s eta 0:00:01\r\u001b[K     |███████████████▏                | 931 kB 12.3 MB/s eta 0:00:01\r\u001b[K     |███████████████▎                | 942 kB 12.3 MB/s eta 0:00:01\r\u001b[K     |███████████████▌                | 952 kB 12.3 MB/s eta 0:00:01\r\u001b[K     |███████████████▋                | 962 kB 12.3 MB/s eta 0:00:01\r\u001b[K     |███████████████▉                | 972 kB 12.3 MB/s eta 0:00:01\r\u001b[K     |████████████████                | 983 kB 12.3 MB/s eta 0:00:01\r\u001b[K     |████████████████▏               | 993 kB 12.3 MB/s eta 0:00:01\r\u001b[K     |████████████████▎               | 1.0 MB 12.3 MB/s eta 0:00:01\r\u001b[K     |████████████████▌               | 1.0 MB 12.3 MB/s eta 0:00:01\r\u001b[K     |████████████████▋               | 1.0 MB 12.3 MB/s eta 0:00:01\r\u001b[K     |████████████████▉               | 1.0 MB 12.3 MB/s eta 0:00:01\r\u001b[K     |█████████████████               | 1.0 MB 12.3 MB/s eta 0:00:01\r\u001b[K     |█████████████████▏              | 1.1 MB 12.3 MB/s eta 0:00:01\r\u001b[K     |█████████████████▎              | 1.1 MB 12.3 MB/s eta 0:00:01\r\u001b[K     |█████████████████▌              | 1.1 MB 12.3 MB/s eta 0:00:01\r\u001b[K     |█████████████████▋              | 1.1 MB 12.3 MB/s eta 0:00:01\r\u001b[K     |█████████████████▉              | 1.1 MB 12.3 MB/s eta 0:00:01\r\u001b[K     |██████████████████              | 1.1 MB 12.3 MB/s eta 0:00:01\r\u001b[K     |██████████████████▏             | 1.1 MB 12.3 MB/s eta 0:00:01\r\u001b[K     |██████████████████▎             | 1.1 MB 12.3 MB/s eta 0:00:01\r\u001b[K     |██████████████████▌             | 1.1 MB 12.3 MB/s eta 0:00:01\r\u001b[K     |██████████████████▋             | 1.1 MB 12.3 MB/s eta 0:00:01\r\u001b[K     |██████████████████▉             | 1.2 MB 12.3 MB/s eta 0:00:01\r\u001b[K     |███████████████████             | 1.2 MB 12.3 MB/s eta 0:00:01\r\u001b[K     |███████████████████▏            | 1.2 MB 12.3 MB/s eta 0:00:01\r\u001b[K     |███████████████████▎            | 1.2 MB 12.3 MB/s eta 0:00:01\r\u001b[K     |███████████████████▌            | 1.2 MB 12.3 MB/s eta 0:00:01\r\u001b[K     |███████████████████▋            | 1.2 MB 12.3 MB/s eta 0:00:01\r\u001b[K     |███████████████████▉            | 1.2 MB 12.3 MB/s eta 0:00:01\r\u001b[K     |████████████████████            | 1.2 MB 12.3 MB/s eta 0:00:01\r\u001b[K     |████████████████████▏           | 1.2 MB 12.3 MB/s eta 0:00:01\r\u001b[K     |████████████████████▎           | 1.2 MB 12.3 MB/s eta 0:00:01\r\u001b[K     |████████████████████▌           | 1.3 MB 12.3 MB/s eta 0:00:01\r\u001b[K     |████████████████████▋           | 1.3 MB 12.3 MB/s eta 0:00:01\r\u001b[K     |████████████████████▉           | 1.3 MB 12.3 MB/s eta 0:00:01\r\u001b[K     |█████████████████████           | 1.3 MB 12.3 MB/s eta 0:00:01\r\u001b[K     |█████████████████████▏          | 1.3 MB 12.3 MB/s eta 0:00:01\r\u001b[K     |█████████████████████▎          | 1.3 MB 12.3 MB/s eta 0:00:01\r\u001b[K     |█████████████████████▌          | 1.3 MB 12.3 MB/s eta 0:00:01\r\u001b[K     |█████████████████████▋          | 1.3 MB 12.3 MB/s eta 0:00:01\r\u001b[K     |█████████████████████▉          | 1.3 MB 12.3 MB/s eta 0:00:01\r\u001b[K     |██████████████████████          | 1.4 MB 12.3 MB/s eta 0:00:01\r\u001b[K     |██████████████████████▏         | 1.4 MB 12.3 MB/s eta 0:00:01\r\u001b[K     |██████████████████████▎         | 1.4 MB 12.3 MB/s eta 0:00:01\r\u001b[K     |██████████████████████▌         | 1.4 MB 12.3 MB/s eta 0:00:01\r\u001b[K     |██████████████████████▋         | 1.4 MB 12.3 MB/s eta 0:00:01\r\u001b[K     |██████████████████████▉         | 1.4 MB 12.3 MB/s eta 0:00:01\r\u001b[K     |███████████████████████         | 1.4 MB 12.3 MB/s eta 0:00:01\r\u001b[K     |███████████████████████▏        | 1.4 MB 12.3 MB/s eta 0:00:01\r\u001b[K     |███████████████████████▎        | 1.4 MB 12.3 MB/s eta 0:00:01\r\u001b[K     |███████████████████████▌        | 1.4 MB 12.3 MB/s eta 0:00:01\r\u001b[K     |███████████████████████▋        | 1.5 MB 12.3 MB/s eta 0:00:01\r\u001b[K     |███████████████████████▉        | 1.5 MB 12.3 MB/s eta 0:00:01\r\u001b[K     |████████████████████████        | 1.5 MB 12.3 MB/s eta 0:00:01\r\u001b[K     |████████████████████████▏       | 1.5 MB 12.3 MB/s eta 0:00:01\r\u001b[K     |████████████████████████▎       | 1.5 MB 12.3 MB/s eta 0:00:01\r\u001b[K     |████████████████████████▌       | 1.5 MB 12.3 MB/s eta 0:00:01\r\u001b[K     |████████████████████████▋       | 1.5 MB 12.3 MB/s eta 0:00:01\r\u001b[K     |████████████████████████▉       | 1.5 MB 12.3 MB/s eta 0:00:01\r\u001b[K     |█████████████████████████       | 1.5 MB 12.3 MB/s eta 0:00:01\r\u001b[K     |█████████████████████████▏      | 1.5 MB 12.3 MB/s eta 0:00:01\r\u001b[K     |█████████████████████████▎      | 1.6 MB 12.3 MB/s eta 0:00:01\r\u001b[K     |█████████████████████████▍      | 1.6 MB 12.3 MB/s eta 0:00:01\r\u001b[K     |█████████████████████████▋      | 1.6 MB 12.3 MB/s eta 0:00:01\r\u001b[K     |█████████████████████████▊      | 1.6 MB 12.3 MB/s eta 0:00:01\r\u001b[K     |██████████████████████████      | 1.6 MB 12.3 MB/s eta 0:00:01\r\u001b[K     |██████████████████████████      | 1.6 MB 12.3 MB/s eta 0:00:01\r\u001b[K     |██████████████████████████▎     | 1.6 MB 12.3 MB/s eta 0:00:01\r\u001b[K     |██████████████████████████▍     | 1.6 MB 12.3 MB/s eta 0:00:01\r\u001b[K     |██████████████████████████▋     | 1.6 MB 12.3 MB/s eta 0:00:01\r\u001b[K     |██████████████████████████▊     | 1.6 MB 12.3 MB/s eta 0:00:01\r\u001b[K     |███████████████████████████     | 1.7 MB 12.3 MB/s eta 0:00:01\r\u001b[K     |███████████████████████████     | 1.7 MB 12.3 MB/s eta 0:00:01\r\u001b[K     |███████████████████████████▎    | 1.7 MB 12.3 MB/s eta 0:00:01\r\u001b[K     |███████████████████████████▍    | 1.7 MB 12.3 MB/s eta 0:00:01\r\u001b[K     |███████████████████████████▋    | 1.7 MB 12.3 MB/s eta 0:00:01\r\u001b[K     |███████████████████████████▊    | 1.7 MB 12.3 MB/s eta 0:00:01\r\u001b[K     |████████████████████████████    | 1.7 MB 12.3 MB/s eta 0:00:01\r\u001b[K     |████████████████████████████    | 1.7 MB 12.3 MB/s eta 0:00:01\r\u001b[K     |████████████████████████████▎   | 1.7 MB 12.3 MB/s eta 0:00:01\r\u001b[K     |████████████████████████████▍   | 1.8 MB 12.3 MB/s eta 0:00:01\r\u001b[K     |████████████████████████████▋   | 1.8 MB 12.3 MB/s eta 0:00:01\r\u001b[K     |████████████████████████████▊   | 1.8 MB 12.3 MB/s eta 0:00:01\r\u001b[K     |█████████████████████████████   | 1.8 MB 12.3 MB/s eta 0:00:01\r\u001b[K     |█████████████████████████████   | 1.8 MB 12.3 MB/s eta 0:00:01\r\u001b[K     |█████████████████████████████▎  | 1.8 MB 12.3 MB/s eta 0:00:01\r\u001b[K     |█████████████████████████████▍  | 1.8 MB 12.3 MB/s eta 0:00:01\r\u001b[K     |█████████████████████████████▋  | 1.8 MB 12.3 MB/s eta 0:00:01\r\u001b[K     |█████████████████████████████▊  | 1.8 MB 12.3 MB/s eta 0:00:01\r\u001b[K     |██████████████████████████████  | 1.8 MB 12.3 MB/s eta 0:00:01\r\u001b[K     |██████████████████████████████  | 1.9 MB 12.3 MB/s eta 0:00:01\r\u001b[K     |██████████████████████████████▎ | 1.9 MB 12.3 MB/s eta 0:00:01\r\u001b[K     |██████████████████████████████▍ | 1.9 MB 12.3 MB/s eta 0:00:01\r\u001b[K     |██████████████████████████████▋ | 1.9 MB 12.3 MB/s eta 0:00:01\r\u001b[K     |██████████████████████████████▊ | 1.9 MB 12.3 MB/s eta 0:00:01\r\u001b[K     |███████████████████████████████ | 1.9 MB 12.3 MB/s eta 0:00:01\r\u001b[K     |███████████████████████████████ | 1.9 MB 12.3 MB/s eta 0:00:01\r\u001b[K     |███████████████████████████████▎| 1.9 MB 12.3 MB/s eta 0:00:01\r\u001b[K     |███████████████████████████████▍| 1.9 MB 12.3 MB/s eta 0:00:01\r\u001b[K     |███████████████████████████████▋| 1.9 MB 12.3 MB/s eta 0:00:01\r\u001b[K     |███████████████████████████████▊| 2.0 MB 12.3 MB/s eta 0:00:01\r\u001b[K     |████████████████████████████████| 2.0 MB 12.3 MB/s eta 0:00:01\r\u001b[K     |████████████████████████████████| 2.0 MB 12.3 MB/s \n",
            "\u001b[?25hInstalling collected packages: pycryptodome\n",
            "Successfully installed pycryptodome-3.14.1\n"
          ]
        }
      ]
    },
    {
      "cell_type": "code",
      "source": [
        "from Crypto.Hash import keccak\n",
        "import binascii\n",
        "\n",
        "keccak256 = keccak.new(data=b'hello', digest_bits=256).digest()\n",
        "print(\"Keccak256:\", binascii.hexlify(keccak256))"
      ],
      "metadata": {
        "colab": {
          "base_uri": "https://localhost:8080/"
        },
        "id": "1SUiF0OucZeB",
        "outputId": "08fa7bdb-4078-4a36-bd58-3a275dca9a6d"
      },
      "execution_count": null,
      "outputs": [
        {
          "output_type": "stream",
          "name": "stdout",
          "text": [
            "Keccak256: b'1c8aff950685c2ed4bc3174f3472287b56d9517b9c948127319a09a7a36deac8'\n"
          ]
        }
      ]
    },
    {
      "cell_type": "code",
      "source": [
        "!pip install basehash"
      ],
      "metadata": {
        "colab": {
          "base_uri": "https://localhost:8080/"
        },
        "id": "SZf_qgYaeJFH",
        "outputId": "7c484c35-81a0-4e12-8353-3fead6faf067"
      },
      "execution_count": null,
      "outputs": [
        {
          "output_type": "stream",
          "name": "stdout",
          "text": [
            "Requirement already satisfied: basehash in /usr/local/lib/python3.7/dist-packages (3.0.10)\n",
            "Requirement already satisfied: six in /usr/local/lib/python3.7/dist-packages (from basehash) (1.15.0)\n"
          ]
        }
      ]
    }
  ]
}